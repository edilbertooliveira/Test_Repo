{
 "cells": [
  {
   "cell_type": "code",
   "execution_count": 1,
   "metadata": {},
   "outputs": [],
   "source": [
    "def calculator(n1 = 0, n2 = 0, operation = \"sum\"):\n",
    "    if operation == 'sum':\n",
    "        result = n1 + n2\n",
    "    elif operation == 'min':\n",
    "        result = n1 - n2\n",
    "    elif operation == 'mult':\n",
    "        result = n1 * n2\n",
    "    elif operation == 'div':\n",
    "        result = n1/n2\n",
    "    else:\n",
    "        result = 'Operação não permitida!'\n",
    "\n",
    "    return result"
   ]
  },
  {
   "cell_type": "code",
   "execution_count": 5,
   "metadata": {},
   "outputs": [
    {
     "name": "stdout",
     "output_type": "stream",
     "text": [
      "5\n"
     ]
    }
   ],
   "source": [
    "n1 = int(input(\"Firt number: \"))\n",
    "n2 = int(input(\"Second number: \"))\n",
    "Operação = str(input(\"Operação realizada:\"))\n",
    "print(f\"{calculator(n1, n2, Operação)}\")"
   ]
  },
  {
   "cell_type": "code",
   "execution_count": null,
   "metadata": {},
   "outputs": [
    {
     "data": {
      "text/plain": [
       "'2'"
      ]
     },
     "execution_count": 9,
     "metadata": {},
     "output_type": "execute_result"
    }
   ],
   "source": []
  },
  {
   "cell_type": "code",
   "execution_count": null,
   "metadata": {},
   "outputs": [],
   "source": []
  }
 ],
 "metadata": {
  "kernelspec": {
   "display_name": "base",
   "language": "python",
   "name": "python3"
  },
  "language_info": {
   "codemirror_mode": {
    "name": "ipython",
    "version": 3
   },
   "file_extension": ".py",
   "mimetype": "text/x-python",
   "name": "python",
   "nbconvert_exporter": "python",
   "pygments_lexer": "ipython3",
   "version": "3.12.7"
  }
 },
 "nbformat": 4,
 "nbformat_minor": 2
}
